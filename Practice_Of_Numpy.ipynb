{
 "cells": [
  {
   "cell_type": "code",
   "execution_count": 2,
   "id": "75c44839-db6b-4cc6-a0b6-91b3ea13bb9c",
   "metadata": {},
   "outputs": [],
   "source": [
    "# import library\n",
    "import numpy as np"
   ]
  },
  {
   "cell_type": "code",
   "execution_count": 3,
   "id": "573a10f4-9d11-4cf8-9ceb-f1567d44f044",
   "metadata": {},
   "outputs": [],
   "source": [
    "# creating the 1-D Array\n",
    "one_D_Array = np.array([1,2,3,4,5])"
   ]
  },
  {
   "cell_type": "code",
   "execution_count": 4,
   "id": "1cbebe98-7b48-4361-93cd-78a4d710e54b",
   "metadata": {},
   "outputs": [
    {
     "data": {
      "text/plain": [
       "array([1, 2, 3, 4, 5])"
      ]
     },
     "execution_count": 4,
     "metadata": {},
     "output_type": "execute_result"
    }
   ],
   "source": [
    "one_D_Array"
   ]
  },
  {
   "cell_type": "code",
   "execution_count": 5,
   "id": "20338657-bd74-4d33-9f07-1d67ccd11043",
   "metadata": {},
   "outputs": [
    {
     "name": "stdout",
     "output_type": "stream",
     "text": [
      "<class 'numpy.ndarray'>\n"
     ]
    }
   ],
   "source": [
    "print(type(one_D_Array))"
   ]
  },
  {
   "cell_type": "code",
   "execution_count": 6,
   "id": "f35d90a7-1a58-44ac-a954-99e0a4c7f4cd",
   "metadata": {},
   "outputs": [],
   "source": [
    "# another way to create an array by using the np.arrange() method\n",
    "one_D_arr = np.arange(4) # it return the evenly spaced array."
   ]
  },
  {
   "cell_type": "code",
   "execution_count": 7,
   "id": "541b035c-1211-4e0a-a4f2-f11c84d87782",
   "metadata": {},
   "outputs": [
    {
     "data": {
      "text/plain": [
       "array([0, 1, 2, 3])"
      ]
     },
     "execution_count": 7,
     "metadata": {},
     "output_type": "execute_result"
    }
   ],
   "source": [
    "one_D_arr"
   ]
  },
  {
   "cell_type": "code",
   "execution_count": 11,
   "id": "d19ef128-f874-4b75-87fb-98aaa9be6ca1",
   "metadata": {},
   "outputs": [
    {
     "data": {
      "text/plain": [
       "array([ 0,  5, 10, 15, 20, 25, 30, 35, 40, 45, 50, 55, 60, 65, 70, 75, 80,\n",
       "       85, 90, 95])"
      ]
     },
     "execution_count": 11,
     "metadata": {},
     "output_type": "execute_result"
    }
   ],
   "source": [
    "np.arange(0,100,5) # 3rd paramater show the distance between number of an array"
   ]
  },
  {
   "cell_type": "code",
   "execution_count": 13,
   "id": "e244a418-badd-47a6-8245-a6af748f1395",
   "metadata": {},
   "outputs": [],
   "source": [
    "# the above array is used to generate the arrays in integer format if it is in the decimal one then we use linespace() method for it\n",
    "decimal_values = np.linspace(0,100,20) # paramater 1-start 2-end value 3-numbers exists in array."
   ]
  },
  {
   "cell_type": "code",
   "execution_count": 17,
   "id": "0a400756-1527-433c-b36e-cfa31e70bf4c",
   "metadata": {},
   "outputs": [
    {
     "name": "stdout",
     "output_type": "stream",
     "text": [
      "[  0.           5.26315789  10.52631579  15.78947368  21.05263158\n",
      "  26.31578947  31.57894737  36.84210526  42.10526316  47.36842105\n",
      "  52.63157895  57.89473684  63.15789474  68.42105263  73.68421053\n",
      "  78.94736842  84.21052632  89.47368421  94.73684211 100.        ]\n",
      "len of array is : 20\n"
     ]
    }
   ],
   "source": [
    "print(decimal_values)\n",
    "print(f\"len of array is : {len(decimal_values)}\") # we can also the dtypes of these number using paramater as dtype=\"int\" in linespace method."
   ]
  },
  {
   "cell_type": "code",
   "execution_count": 18,
   "id": "2e95533d-2635-4af7-aa5a-0972cd805c82",
   "metadata": {},
   "outputs": [
    {
     "name": "stdout",
     "output_type": "stream",
     "text": [
      "['Welcome to Math for ML!']\n",
      "<U23\n"
     ]
    }
   ],
   "source": [
    "char_arr = np.array(['Welcome to Math for ML!'])\n",
    "print(char_arr)\n",
    "print(char_arr.dtype) # Prints the data type of the array"
   ]
  },
  {
   "cell_type": "markdown",
   "id": "b23f6bed-4c6f-42d1-bf90-9d863c614631",
   "metadata": {},
   "source": [
    "<!-- # More on NumPy arrays¶\n",
    "# One of the advantages of using NumPy is that you can easily create arrays with built-in functions such as:\n",
    "\n",
    "# np.ones() - Returns a new array setting values to one.\n",
    "# np.zeros() - Returns a new array setting values to zero.\n",
    "# np.empty() - Returns a new uninitialized array.\n",
    "# np.random.rand() - Returns a new array with values chosen at random. -->"
   ]
  },
  {
   "cell_type": "markdown",
   "id": "8046bbce-d415-426e-b9cd-ddeaf3904fac",
   "metadata": {},
   "source": [
    "# More on NumPy arrays¶\n",
    "One of the advantages of using NumPy is that you can easily create arrays with built-in functions such as:\n",
    "\n",
    "- \"np.ones()\" - Returns a new array setting values to one.\n",
    "- \"np.zeros()\" - Returns a new array setting values to zero.\n",
    "- \"np.empty()\" - Returns a new uninitialized array.\n",
    "- \"np.random.rand()\" - Returns a new array with values chosen at random."
   ]
  },
  {
   "cell_type": "code",
   "execution_count": 19,
   "id": "0c12e3e8-7414-4415-95ab-c9898c370079",
   "metadata": {},
   "outputs": [
    {
     "data": {
      "text/plain": [
       "array([1., 1., 1.])"
      ]
     },
     "execution_count": 19,
     "metadata": {},
     "output_type": "execute_result"
    }
   ],
   "source": [
    "np.ones(3)"
   ]
  },
  {
   "cell_type": "code",
   "execution_count": 27,
   "id": "098f04ae-b154-44e2-b945-337d95e3ee89",
   "metadata": {},
   "outputs": [
    {
     "data": {
      "text/plain": [
       "array([0., 0., 0.])"
      ]
     },
     "execution_count": 27,
     "metadata": {},
     "output_type": "execute_result"
    }
   ],
   "source": [
    "np.zeros(3)"
   ]
  },
  {
   "cell_type": "code",
   "execution_count": 28,
   "id": "cbcccea6-0b21-48e6-bd07-7bbb3c7002af",
   "metadata": {},
   "outputs": [
    {
     "data": {
      "text/plain": [
       "array([0., 0., 0.])"
      ]
     },
     "execution_count": 28,
     "metadata": {},
     "output_type": "execute_result"
    }
   ],
   "source": [
    "np.empty(3)"
   ]
  },
  {
   "cell_type": "code",
   "execution_count": 31,
   "id": "9444c014-666b-46d8-9478-8c0ed372f9e3",
   "metadata": {},
   "outputs": [
    {
     "data": {
      "text/plain": [
       "array([[0.28875009, 0.38164207, 0.94533008],\n",
       "       [0.59302342, 0.14200763, 0.22215607],\n",
       "       [0.70439033, 0.35136212, 0.28229408]])"
      ]
     },
     "execution_count": 31,
     "metadata": {},
     "output_type": "execute_result"
    }
   ],
   "source": [
    "np.random.rand(3,3) # first paramater shows as row and 2nd show as column"
   ]
  },
  {
   "cell_type": "markdown",
   "id": "863d460e-79b0-431e-a207-fb22f7704418",
   "metadata": {},
   "source": [
    "# Multidimensional Arrays¶\n",
    "With NumPy you can also create arrays with more than one dimension. In the above examples, you dealt with 1-D arrays, where you can access their elements using a single index.\n",
    "A multidimensional array has more than one column. Think of a multidimensional array as an excel sheet where each row/column represents a dimension."
   ]
  },
  {
   "cell_type": "markdown",
   "id": "8164da16-efc3-435f-a601-92a16fb66b93",
   "metadata": {},
   "source": [
    "![0_Vh-pKXTJsdL-9FT0.png](attachment:0_Vh-pKXTJsdL-9FT0.png)"
   ]
  },
  {
   "cell_type": "code",
   "execution_count": 33,
   "id": "d354bbc6-e531-41bf-a874-119d2b0412cb",
   "metadata": {},
   "outputs": [
    {
     "data": {
      "text/plain": [
       "array([[1, 2, 3],\n",
       "       [4, 5, 6]])"
      ]
     },
     "execution_count": 33,
     "metadata": {},
     "output_type": "execute_result"
    }
   ],
   "source": [
    "# one way to create the multi-dimensional array\n",
    "np.array([[1,2,3],[4,5,6]])"
   ]
  },
  {
   "cell_type": "code",
   "execution_count": 43,
   "id": "77078678-217d-4af7-ba1e-1ceed881d89f",
   "metadata": {},
   "outputs": [],
   "source": [
    "# 2nd way\n",
    "SD_array = np.array([1,2,3,4,5,6])"
   ]
  },
  {
   "cell_type": "code",
   "execution_count": 44,
   "id": "b919d5b3-08c2-4677-ae3d-65461aa0bd65",
   "metadata": {},
   "outputs": [
    {
     "data": {
      "text/plain": [
       "array([[1, 2],\n",
       "       [3, 4],\n",
       "       [5, 6]])"
      ]
     },
     "execution_count": 44,
     "metadata": {},
     "output_type": "execute_result"
    }
   ],
   "source": [
    "# then single array will reshape as multi-dimensional..\n",
    "np.reshape(SD_array,(3,2))"
   ]
  },
  {
   "cell_type": "code",
   "execution_count": 45,
   "id": "85d17bf4-9752-4f6b-8fd1-63857e82af0e",
   "metadata": {},
   "outputs": [
    {
     "name": "stdout",
     "output_type": "stream",
     "text": [
      "[[1 2 3]\n",
      " [4 5 6]]\n"
     ]
    }
   ],
   "source": [
    "# Multidimensional array using reshape()\n",
    "multi_dim_arr = np.reshape(\n",
    "                    SD_array, # the array to be reshaped\n",
    "                    (2,3) # dimensions of the new array\n",
    "                )\n",
    "# Print the new 2-D array with two rows and three columns\n",
    "print(multi_dim_arr)"
   ]
  },
  {
   "cell_type": "markdown",
   "id": "3638feb7-7157-4dbf-b5d7-10f110f82719",
   "metadata": {},
   "source": [
    "# Finding size, shape and dimension\n",
    "In future assignments, you will need to know how to find the size, dimension and shape of an array. These are all atrributes of a ndarray and can be accessed as follows:\n",
    "## ndarray.ndim =Stores the number dimensions of the array\n",
    "## ndarray.shape = Stores the shape of the array. Each number in the tuple denotes the lengths of each corresponding dimension.\n",
    "## ndarray.size = Stores the number of elements in the array"
   ]
  },
  {
   "cell_type": "code",
   "execution_count": 49,
   "id": "e532763d-2f2e-4ee0-b8c7-57db01347ea4",
   "metadata": {},
   "outputs": [
    {
     "name": "stdout",
     "output_type": "stream",
     "text": [
      "shape is : (6,)\n",
      "size is : 6\n",
      "dimension is : 1\n"
     ]
    }
   ],
   "source": [
    "print(f\"shape is : {SD_array.shape}\")\n",
    "print(f\"size is : {S_array.size}\")\n",
    "print(f\"dimension is : {S_array.ndim}\")"
   ]
  },
  {
   "cell_type": "markdown",
   "id": "6e7af06a-b8d1-44d8-8543-b2edf87e0b35",
   "metadata": {},
   "source": [
    "# Array math operations\n",
    "In this section, you will see that NumPy allows you to quickly perform elementwise addition, substraction, multiplication and division for both 1-D and multidimensional arrays. The operations are performed using the math symbol for each '+', '-' and '*'. Recall that addition of Python lists works completely differently as it would append the lists, thus making a longer list. Meanwhile, trying to subtract or multipy Python lists simply would cause an error."
   ]
  },
  {
   "cell_type": "code",
   "execution_count": 50,
   "id": "4b4d4f63-121e-4a7e-8e54-e1d8b53e0588",
   "metadata": {},
   "outputs": [
    {
     "name": "stdout",
     "output_type": "stream",
     "text": [
      "[ 3  7 11]\n",
      "[1 1 1]\n",
      "[ 2 12 30]\n"
     ]
    }
   ],
   "source": [
    "arr_1 = np.array([2, 4, 6])\n",
    "arr_2 = np.array([1, 3, 5])\n",
    "\n",
    "# Adding two 1-D arrays\n",
    "addition = arr_1 + arr_2\n",
    "print(addition)\n",
    "\n",
    "# Subtracting two 1-D arrays\n",
    "subtraction = arr_1 - arr_2\n",
    "print(subtraction)\n",
    "\n",
    "# Multiplying two 1-D arrays elementwise\n",
    "multiplication = arr_1 * arr_2\n",
    "print(multiplication)"
   ]
  },
  {
   "cell_type": "markdown",
   "id": "b7a45cad-1962-43ab-9f4c-6b0bb01289fa",
   "metadata": {},
   "source": [
    "# Multiplying vector with a scalar (broadcasting)\n",
    "Suppose you need to convert miles to kilometers. To do so, you can use the NumPy array functions that you've learned so far. You can do this by carrying out an operation between an array (miles) and a single number (the conversion rate which is a scalar). Since, 1 mile = 1.6 km, NumPy computes each multiplication within each cell.\r\n",
    "\r\n",
    "This concept is called broadcasting, which allows you to perform operations specifically on arrays of different shapes."
   ]
  },
  {
   "cell_type": "code",
   "execution_count": 51,
   "id": "bfbe23e7-2efd-4c8a-a3af-a25f913c8aec",
   "metadata": {},
   "outputs": [
    {
     "data": {
      "text/plain": [
       "array([1.6, 3.2, 4.8, 6.4, 8. , 9.6])"
      ]
     },
     "execution_count": 51,
     "metadata": {},
     "output_type": "execute_result"
    }
   ],
   "source": [
    "vector = np.array([1, 2, 3, 4, 5, 6])\n",
    "vector * 1.6"
   ]
  },
  {
   "cell_type": "markdown",
   "id": "6d7b73a0-6924-4f8e-8c80-824d9c1d4122",
   "metadata": {},
   "source": [
    "# Indexing and slicing\n",
    "- Indexing is very useful as it allows you to select specific elements from an array. It also lets you select entire rows/columns or planes as you'll see in future assignments for multidimensional arrays.\n",
    "\n",
    "- Indexing\n",
    ". Let us select specific elements from the arrays as given."
   ]
  },
  {
   "cell_type": "code",
   "execution_count": 52,
   "id": "1407fffe-c9d6-4837-aa6c-a036e15d47c8",
   "metadata": {},
   "outputs": [
    {
     "name": "stdout",
     "output_type": "stream",
     "text": [
      "3\n",
      "1\n"
     ]
    }
   ],
   "source": [
    "# Select the third element of the array. Remember the counting starts from 0.\n",
    "a = np.array([1, 2, 3, 4, 5])\n",
    "print(a[2])\n",
    "\n",
    "# Select the first element of the array.\n",
    "print(a[0])"
   ]
  },
  {
   "cell_type": "code",
   "execution_count": 53,
   "id": "153e64c4-5909-40c0-b04d-c8370a210e59",
   "metadata": {},
   "outputs": [
    {
     "name": "stdout",
     "output_type": "stream",
     "text": [
      "8\n",
      "8\n"
     ]
    }
   ],
   "source": [
    "# Indexing on a 2-D array\n",
    "two_dim = np.array(([1, 2, 3],\n",
    "          [4, 5, 6], \n",
    "          [7, 8, 9]))\n",
    "\n",
    "# Select element number 8 from the 2-D array using indices i, j and two sets of brackets\n",
    "print(two_dim[2][1])\n",
    "\n",
    "# Select element number 8 from the 2-D array, this time using i and j indexes in a single \n",
    "# set of brackets, separated by a comma\n",
    "print(two_dim[2,1])"
   ]
  },
  {
   "cell_type": "markdown",
   "id": "0e30eba8-708b-4b69-989c-2525391014fe",
   "metadata": {},
   "source": [
    "# Slicing\n",
    "Slicing gives you a sublist of elements that you specify from the array. The slice notation specifies a start and end value, and copies the list from start up to but not including the end (end-exclusive).\n",
    "\n",
    "The syntax is:\n",
    "\n",
    "array[start:end:step]\n",
    "\n",
    "If no value is passed to start, it is assumed start = 0, if no value is passed to end, it is assumed that end = length of array - 1 and if no value is passed to step, it is assumed step = 1.\n",
    "\n",
    "Note you can use slice notation with multi-dimensional indexing, as in a[0:2, :5]. This is the extent of indexing you'll need for this course but feel free to check out the official NumPy documentation for extensive documentation on more advanced NumPy array indexing techniques."
   ]
  },
  {
   "cell_type": "code",
   "execution_count": 54,
   "id": "ab2e81fe-6772-4833-9bed-ba0699ce48cb",
   "metadata": {},
   "outputs": [
    {
     "name": "stdout",
     "output_type": "stream",
     "text": [
      "[2 3 4]\n"
     ]
    }
   ],
   "source": [
    "# Slice the array a to get the array [2,3,4]\n",
    "sliced_arr = a[1:4]\n",
    "print(sliced_arr)"
   ]
  },
  {
   "cell_type": "code",
   "execution_count": 55,
   "id": "729e51cc-8bf9-4ffc-bc25-a36b4bd09957",
   "metadata": {},
   "outputs": [
    {
     "name": "stdout",
     "output_type": "stream",
     "text": [
      "[1 2 3]\n"
     ]
    }
   ],
   "source": [
    "# Slice the array a to get the array [1,2,3]\n",
    "sliced_arr = a[:3]\n",
    "print(sliced_arr)"
   ]
  },
  {
   "cell_type": "code",
   "execution_count": 56,
   "id": "01edb084-75e7-4ed8-8375-8a079273d7ea",
   "metadata": {},
   "outputs": [
    {
     "name": "stdout",
     "output_type": "stream",
     "text": [
      "[3 4 5]\n"
     ]
    }
   ],
   "source": [
    "# Slice the array a to get the array [3,4,5]\n",
    "sliced_arr = a[2:]\n",
    "print(sliced_arr)"
   ]
  },
  {
   "cell_type": "code",
   "execution_count": null,
   "id": "fecb36af-2cc2-4d8e-afe3-89ee7d5df119",
   "metadata": {},
   "outputs": [],
   "source": [
    "# Slice the array a to get the array [1,3,5]\n",
    "sliced_arr = a[::2]\n",
    "print(sliced_arr)"
   ]
  },
  {
   "cell_type": "code",
   "execution_count": null,
   "id": "3a65928d-3983-4816-9f2c-df139ac52985",
   "metadata": {},
   "outputs": [],
   "source": [
    "# Note that a == a[:] == a[::]\n",
    "print(a == a[:] == a[::])"
   ]
  },
  {
   "cell_type": "code",
   "execution_count": 59,
   "id": "a5b8eb72-d4bb-40bc-ac9e-f36a5061ed01",
   "metadata": {},
   "outputs": [
    {
     "data": {
      "text/plain": [
       "array([1, 2, 3, 4, 5, 6])"
      ]
     },
     "execution_count": 59,
     "metadata": {},
     "output_type": "execute_result"
    }
   ],
   "source": [
    "SD_array[:]"
   ]
  },
  {
   "cell_type": "code",
   "execution_count": 62,
   "id": "ef2b6846-18eb-43e2-8113-d7c97045dd4e",
   "metadata": {},
   "outputs": [
    {
     "data": {
      "text/plain": [
       "array([1, 4])"
      ]
     },
     "execution_count": 62,
     "metadata": {},
     "output_type": "execute_result"
    }
   ],
   "source": [
    "SD_array[::3]"
   ]
  },
  {
   "cell_type": "code",
   "execution_count": 63,
   "id": "5bb97f66-c4b1-49b9-8ccd-b85e3a515db8",
   "metadata": {},
   "outputs": [
    {
     "data": {
      "text/plain": [
       "array([1, 2, 3, 4])"
      ]
     },
     "execution_count": 63,
     "metadata": {},
     "output_type": "execute_result"
    }
   ],
   "source": [
    "SD_array[:4]"
   ]
  },
  {
   "cell_type": "code",
   "execution_count": 64,
   "id": "9c212cb9-3a7c-4bcd-92ef-d8a9a038896e",
   "metadata": {},
   "outputs": [
    {
     "name": "stdout",
     "output_type": "stream",
     "text": [
      "[2 5 8]\n"
     ]
    }
   ],
   "source": [
    "# This example uses slice notation to get every row, and then pulls the second column.\n",
    "# Notice how this example combines slice notation with the use of multiple indexes\n",
    "sliced_two_dim_cols = two_dim[:,1]\n",
    "print(sliced_two_dim_cols)"
   ]
  },
  {
   "cell_type": "markdown",
   "id": "07dd48f4-c688-45aa-bf75-ddde7ee64aa7",
   "metadata": {},
   "source": [
    "# Stacking\n",
    "Finally, stacking is a feature of NumPy that leads to increased customization of arrays. It means to join two or more arrays, either horizontally or vertically, meaning that it is done along a new axis\n",
    "\n",
    "- np.vstack() - stacks vertically\r",
    "- \n",
    "np.hstack() - stacks horizontall\n",
    "- np.hsplit() - splits an array into several smaller arrays"
   ]
  },
  {
   "cell_type": "code",
   "execution_count": 65,
   "id": "1c8d3469-9a7c-4565-a61b-5ce081f87af9",
   "metadata": {},
   "outputs": [
    {
     "name": "stdout",
     "output_type": "stream",
     "text": [
      "a1:\n",
      "[[1 1]\n",
      " [2 2]]\n",
      "a2:\n",
      "[[3 3]\n",
      " [4 4]]\n"
     ]
    }
   ],
   "source": [
    "a1 = np.array([[1,1], \n",
    "               [2,2]])\n",
    "a2 = np.array([[3,3],\n",
    "              [4,4]])\n",
    "print(f'a1:\\n{a1}')\n",
    "print(f'a2:\\n{a2}')"
   ]
  },
  {
   "cell_type": "code",
   "execution_count": 66,
   "id": "292ee00a-5eef-4b0f-b622-f44a7515c2ba",
   "metadata": {},
   "outputs": [],
   "source": [
    "# stack the array vertically\n",
    "V_array = np.vstack((a1,a2)) # it works on 2-D array in tuple"
   ]
  },
  {
   "cell_type": "code",
   "execution_count": 67,
   "id": "0e7ca954-345d-449d-af47-f568975ef8fc",
   "metadata": {},
   "outputs": [
    {
     "name": "stdout",
     "output_type": "stream",
     "text": [
      "[[1 1]\n",
      " [2 2]\n",
      " [3 3]\n",
      " [4 4]]\n"
     ]
    }
   ],
   "source": [
    "print(V_array)"
   ]
  },
  {
   "cell_type": "code",
   "execution_count": 75,
   "id": "d62406c7-7289-40a1-b2f1-efa5e3f52d11",
   "metadata": {},
   "outputs": [],
   "source": [
    "V_split_array = np.vsplit(V_array,2) # split the array in 2 dimensions of stack array."
   ]
  },
  {
   "cell_type": "code",
   "execution_count": 74,
   "id": "e6aca118-2012-4857-b8d2-0c29fcfe728a",
   "metadata": {},
   "outputs": [
    {
     "data": {
      "text/plain": [
       "[array([[1, 1],\n",
       "        [2, 2]]),\n",
       " array([[3, 3],\n",
       "        [4, 4]])]"
      ]
     },
     "execution_count": 74,
     "metadata": {},
     "output_type": "execute_result"
    }
   ],
   "source": [
    "V_split_array"
   ]
  },
  {
   "cell_type": "code",
   "execution_count": 76,
   "id": "58f65bb1-e5ed-474a-b035-67ffa91dc57a",
   "metadata": {},
   "outputs": [],
   "source": [
    "# stacking array horizentally\n",
    "H_stack_array = np.hstack((a1,a2))"
   ]
  },
  {
   "cell_type": "code",
   "execution_count": 77,
   "id": "f1fcc432-ccac-49d9-9d48-be4e6fed9b90",
   "metadata": {},
   "outputs": [
    {
     "data": {
      "text/plain": [
       "array([[1, 1, 3, 3],\n",
       "       [2, 2, 4, 4]])"
      ]
     },
     "execution_count": 77,
     "metadata": {},
     "output_type": "execute_result"
    }
   ],
   "source": [
    "H_stack_array"
   ]
  },
  {
   "cell_type": "code",
   "execution_count": 78,
   "id": "c9994cc5-e2f4-46c4-85b9-7002ceef5459",
   "metadata": {},
   "outputs": [],
   "source": [
    "# splitting the Horizental stack array into specific dimension\n",
    "H_Split_array =  np.hsplit(H_stack_array,2)"
   ]
  },
  {
   "cell_type": "code",
   "execution_count": 79,
   "id": "bcc7e02d-4fa3-48bd-a312-0b8de37b9f8e",
   "metadata": {},
   "outputs": [
    {
     "data": {
      "text/plain": [
       "[array([[1, 1],\n",
       "        [2, 2]]),\n",
       " array([[3, 3],\n",
       "        [4, 4]])]"
      ]
     },
     "execution_count": 79,
     "metadata": {},
     "output_type": "execute_result"
    }
   ],
   "source": [
    "H_Split_array"
   ]
  },
  {
   "cell_type": "code",
   "execution_count": null,
   "id": "e5b2be9c-7f9d-49bf-ad2a-c5ece7ab0040",
   "metadata": {},
   "outputs": [],
   "source": []
  }
 ],
 "metadata": {
  "kernelspec": {
   "display_name": "Python 3 (ipykernel)",
   "language": "python",
   "name": "python3"
  },
  "language_info": {
   "codemirror_mode": {
    "name": "ipython",
    "version": 3
   },
   "file_extension": ".py",
   "mimetype": "text/x-python",
   "name": "python",
   "nbconvert_exporter": "python",
   "pygments_lexer": "ipython3",
   "version": "3.10.4"
  }
 },
 "nbformat": 4,
 "nbformat_minor": 5
}
